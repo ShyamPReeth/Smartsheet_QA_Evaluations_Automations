{
 "cells": [
  {
   "cell_type": "code",
   "execution_count": 1,
   "id": "b43cbcf9",
   "metadata": {},
   "outputs": [],
   "source": [
    "\n",
    "from selenium import webdriver\n",
    "from selenium.webdriver.common.by import By\n",
    "\n",
    "# Initialize the WebDriver (you might need to specify the path to your webdriver executable)\n",
    "driver = webdriver.Edge()\n",
    "\n",
    "# Open the website\n",
    "driver.get(\"https://www.techlistic.com/p/selenium-practice-form.html\")  # Replace this with the actual website URL\n",
    "\n",
    "# Find all radio buttons with data-client-value=\"Yes\" attribute\n",
    "radio_buttons = driver.find_elements(By.CSS_SELECTOR, 'input[type=\"radio\"]')\n",
    "\n",
    "# Iterate through the radio buttons and select them\n",
    "for radio_button in radio_buttons:\n",
    "    radio_button.click()\n",
    "\n",
    "# Close the WebDriver\n",
    "\n"
   ]
  },
  {
   "cell_type": "code",
   "execution_count": 2,
   "id": "0ef6feed",
   "metadata": {},
   "outputs": [
    {
     "name": "stdout",
     "output_type": "stream",
     "text": [
      "Enter the YouTube video you want to search for: formula 1\n"
     ]
    },
    {
     "ename": "AttributeError",
     "evalue": "'WebDriver' object has no attribute 'find_element_by_name'",
     "output_type": "error",
     "traceback": [
      "\u001b[1;31m---------------------------------------------------------------------------\u001b[0m",
      "\u001b[1;31mAttributeError\u001b[0m                            Traceback (most recent call last)",
      "Cell \u001b[1;32mIn[2], line 29\u001b[0m\n\u001b[0;32m     27\u001b[0m \u001b[38;5;28;01mif\u001b[39;00m \u001b[38;5;18m__name__\u001b[39m \u001b[38;5;241m==\u001b[39m \u001b[38;5;124m\"\u001b[39m\u001b[38;5;124m__main__\u001b[39m\u001b[38;5;124m\"\u001b[39m:\n\u001b[0;32m     28\u001b[0m     search_query \u001b[38;5;241m=\u001b[39m \u001b[38;5;28minput\u001b[39m(\u001b[38;5;124m\"\u001b[39m\u001b[38;5;124mEnter the YouTube video you want to search for: \u001b[39m\u001b[38;5;124m\"\u001b[39m)\n\u001b[1;32m---> 29\u001b[0m     \u001b[43msearch_youtube_video\u001b[49m\u001b[43m(\u001b[49m\u001b[43msearch_query\u001b[49m\u001b[43m)\u001b[49m\n",
      "Cell \u001b[1;32mIn[2], line 11\u001b[0m, in \u001b[0;36msearch_youtube_video\u001b[1;34m(query)\u001b[0m\n\u001b[0;32m      8\u001b[0m driver \u001b[38;5;241m=\u001b[39m webdriver\u001b[38;5;241m.\u001b[39mEdge()\n\u001b[0;32m      9\u001b[0m driver\u001b[38;5;241m.\u001b[39mget(\u001b[38;5;124m\"\u001b[39m\u001b[38;5;124mhttps://www.youtube.com\u001b[39m\u001b[38;5;124m\"\u001b[39m)\n\u001b[1;32m---> 11\u001b[0m search_box \u001b[38;5;241m=\u001b[39m \u001b[43mdriver\u001b[49m\u001b[38;5;241;43m.\u001b[39;49m\u001b[43mfind_element_by_name\u001b[49m(\u001b[38;5;124m\"\u001b[39m\u001b[38;5;124msearch_query\u001b[39m\u001b[38;5;124m\"\u001b[39m)\n\u001b[0;32m     12\u001b[0m search_box\u001b[38;5;241m.\u001b[39msend_keys(query)\n\u001b[0;32m     13\u001b[0m search_box\u001b[38;5;241m.\u001b[39msend_keys(Keys\u001b[38;5;241m.\u001b[39mRETURN)\n",
      "\u001b[1;31mAttributeError\u001b[0m: 'WebDriver' object has no attribute 'find_element_by_name'"
     ]
    }
   ],
   "source": [
    "from selenium import webdriver\n",
    "from selenium.webdriver.common.keys import Keys\n",
    "\n",
    "# Path to your webdriver executable (e.g., chromedriver.exe)\n",
    "webdriver_path = \"/path/to/chromedriver\"\n",
    "\n",
    "def search_youtube_video(query):\n",
    "    driver = webdriver.Edge()\n",
    "    driver.get(\"https://www.youtube.com\")\n",
    "    \n",
    "    search_box = driver.find_element_by_name(\"search_query\")\n",
    "    search_box.send_keys(query)\n",
    "    search_box.send_keys(Keys.RETURN)\n",
    "    \n",
    "    # Wait for a few seconds to let the search results load\n",
    "    driver.implicitly_wait(10)\n",
    "    \n",
    "    # Extract video titles and links\n",
    "    videos = driver.find_elements_by_css_selector(\".yt-lockup-title\")\n",
    "    for video in videos:\n",
    "        title = video.text\n",
    "        link = video.find_element_by_tag_name(\"a\").get_attribute(\"href\")\n",
    "        print(f\"Title: {title}\\nLink: {link}\\n\")\n",
    "    \n",
    "    driver.quit()\n",
    "\n",
    "if __name__ == \"__main__\":\n",
    "    search_query = input(\"Enter the YouTube video you want to search for: \")\n",
    "    search_youtube_video(search_query)\n"
   ]
  },
  {
   "cell_type": "code",
   "execution_count": null,
   "id": "d1cb7fb4",
   "metadata": {},
   "outputs": [],
   "source": []
  }
 ],
 "metadata": {
  "kernelspec": {
   "display_name": "Python 3 (ipykernel)",
   "language": "python",
   "name": "python3"
  },
  "language_info": {
   "codemirror_mode": {
    "name": "ipython",
    "version": 3
   },
   "file_extension": ".py",
   "mimetype": "text/x-python",
   "name": "python",
   "nbconvert_exporter": "python",
   "pygments_lexer": "ipython3",
   "version": "3.9.7"
  }
 },
 "nbformat": 4,
 "nbformat_minor": 5
}
